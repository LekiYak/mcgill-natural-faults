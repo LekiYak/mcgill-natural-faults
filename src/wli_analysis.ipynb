{
 "cells": [
  {
   "cell_type": "code",
   "execution_count": 1,
   "metadata": {},
   "outputs": [],
   "source": [
    "import numpy as np\n",
    "import pandas as pd\n",
    "import plotly.graph_objects as go"
   ]
  },
  {
   "cell_type": "code",
   "execution_count": 2,
   "metadata": {},
   "outputs": [],
   "source": [
    "# read csv\n",
    "df = pd.read_csv('..\\surfaces\\JBZQ05\\WLI\\JBZQ05_275_1_001.csv')\n",
    "\n",
    "# convert nans to np.nan\n",
    "df = df.replace('nan', np.nan)\n",
    "\n",
    "# convert to numeric\n",
    "df = df.apply(pd.to_numeric, errors='ignore')\n",
    "\n",
    "X = df['X'].to_numpy().astype(int)\n",
    "Y = df['Y'].to_numpy().astype(int)\n",
    "Z = df['Z'].to_numpy()\n",
    "\n",
    "Z = Z.reshape(1024, 1024)"
   ]
  }
 ],
 "metadata": {
  "kernelspec": {
   "display_name": "leki-natural-faults",
   "language": "python",
   "name": "python3"
  },
  "language_info": {
   "codemirror_mode": {
    "name": "ipython",
    "version": 3
   },
   "file_extension": ".py",
   "mimetype": "text/x-python",
   "name": "python",
   "nbconvert_exporter": "python",
   "pygments_lexer": "ipython3",
   "version": "3.10.11"
  },
  "orig_nbformat": 4
 },
 "nbformat": 4,
 "nbformat_minor": 2
}
